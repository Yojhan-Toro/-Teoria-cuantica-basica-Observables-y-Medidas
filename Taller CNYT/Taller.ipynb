{
 "cells": [
  {
   "cell_type": "markdown",
   "metadata": {},
   "source": []
  },
  {
   "cell_type": "code",
   "execution_count": 1,
   "metadata": {},
   "outputs": [],
   "source": [
    "import numpy as np\n",
    "\n",
    "def norVec(vec):\n",
    "    return vec/(np.linalg.norm(vec) **2)\n",
    "\n",
    "\n",
    "def probObs(posi, vec):\n",
    "    return (np.arg(vec[posi]) **2)/norVec(vec)\n",
    "\n",
    "\n",
    "num = input(\"Numero de posiciones: \")\n",
    "vec = []\n",
    "\n",
    "print(\"Vector ket de estados:\")\n",
    "\n",
    "for i in range(num):\n",
    "    vec.append(input(i))\n"
   ]
  },
  {
   "cell_type": "code",
   "execution_count": 3,
   "metadata": {},
   "outputs": [
    {
     "name": "stdout",
     "output_type": "stream",
     "text": [
      "[0.1796053 +0.j        0.3592106 +0.1796053j 0.53881591+0.j\n",
      " 0.71842121+0.j       ]\n"
     ]
    }
   ],
   "source": [
    "print(norVec([1,2 + 1j,3,4]))"
   ]
  }
 ],
 "metadata": {
  "kernelspec": {
   "display_name": "Python 3",
   "language": "python",
   "name": "python3"
  },
  "language_info": {
   "codemirror_mode": {
    "name": "ipython",
    "version": 3
   },
   "file_extension": ".py",
   "mimetype": "text/x-python",
   "name": "python",
   "nbconvert_exporter": "python",
   "pygments_lexer": "ipython3",
   "version": "3.11.6"
  }
 },
 "nbformat": 4,
 "nbformat_minor": 2
}
